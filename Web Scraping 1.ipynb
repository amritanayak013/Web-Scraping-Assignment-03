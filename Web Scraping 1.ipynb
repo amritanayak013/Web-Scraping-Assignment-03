{
 "cells": [
  {
   "cell_type": "raw",
   "metadata": {},
   "source": [
    "Q7. Write a program to scrap all the available details of top 10 gaming laptops from digit.in."
   ]
  },
  {
   "cell_type": "code",
   "execution_count": 2,
   "metadata": {},
   "outputs": [],
   "source": [
    "import selenium\n",
    "import pandas as pd\n",
    "from selenium import webdriver"
   ]
  },
  {
   "cell_type": "code",
   "execution_count": 2,
   "metadata": {},
   "outputs": [],
   "source": [
    "#connecting to webdriver\n",
    "driver = webdriver.Chrome(r\"C://chromedriver.exe\")"
   ]
  },
  {
   "cell_type": "code",
   "execution_count": 3,
   "metadata": {},
   "outputs": [],
   "source": [
    "driver.get(\"https://www.digit.in/top-products/best-gaming-laptops-40.html\")"
   ]
  },
  {
   "cell_type": "code",
   "execution_count": 4,
   "metadata": {},
   "outputs": [],
   "source": [
    "url = \"https://www.digit.in/top-products/best-gaming-laptops-40.html\""
   ]
  },
  {
   "cell_type": "code",
   "execution_count": 5,
   "metadata": {},
   "outputs": [],
   "source": [
    "driver.get (url)"
   ]
  },
  {
   "cell_type": "code",
   "execution_count": 6,
   "metadata": {},
   "outputs": [],
   "source": [
    "product_name = []\n",
    "product_specs =[]"
   ]
  },
  {
   "cell_type": "code",
   "execution_count": 7,
   "metadata": {},
   "outputs": [
    {
     "data": {
      "text/plain": [
       "[<selenium.webdriver.remote.webelement.WebElement (session=\"c87565dd00e28a165ab7da009782a8c7\", element=\"5acf942e-90a1-409c-b456-b09abc396a29\")>,\n",
       " <selenium.webdriver.remote.webelement.WebElement (session=\"c87565dd00e28a165ab7da009782a8c7\", element=\"4853d35d-197d-44a0-8b4a-139ac0bef457\")>,\n",
       " <selenium.webdriver.remote.webelement.WebElement (session=\"c87565dd00e28a165ab7da009782a8c7\", element=\"eb3a7ee3-5587-4d88-95ab-429a69f932b3\")>,\n",
       " <selenium.webdriver.remote.webelement.WebElement (session=\"c87565dd00e28a165ab7da009782a8c7\", element=\"b95d2cea-db37-4253-a32b-e7c722479309\")>,\n",
       " <selenium.webdriver.remote.webelement.WebElement (session=\"c87565dd00e28a165ab7da009782a8c7\", element=\"56d63fde-97a6-41c6-83f2-1e0c78f7708e\")>,\n",
       " <selenium.webdriver.remote.webelement.WebElement (session=\"c87565dd00e28a165ab7da009782a8c7\", element=\"ff32294e-15e0-4c59-9afe-b37538d141e7\")>,\n",
       " <selenium.webdriver.remote.webelement.WebElement (session=\"c87565dd00e28a165ab7da009782a8c7\", element=\"8e124b8d-24ba-404d-9d49-ca3b731a994b\")>,\n",
       " <selenium.webdriver.remote.webelement.WebElement (session=\"c87565dd00e28a165ab7da009782a8c7\", element=\"68464519-d24b-4aec-a4b0-979db238be3f\")>,\n",
       " <selenium.webdriver.remote.webelement.WebElement (session=\"c87565dd00e28a165ab7da009782a8c7\", element=\"0c4f0841-e6e0-47d4-a136-646335622ff6\")>,\n",
       " <selenium.webdriver.remote.webelement.WebElement (session=\"c87565dd00e28a165ab7da009782a8c7\", element=\"327057c3-a6b4-49e0-a62b-f89ab86546dd\")>]"
      ]
     },
     "execution_count": 7,
     "metadata": {},
     "output_type": "execute_result"
    }
   ],
   "source": [
    "#lets extract product name\n",
    "name_tags = driver.find_elements_by_xpath (\"//div[@data-title]\")\n",
    "name_tags [0:10]"
   ]
  },
  {
   "cell_type": "code",
   "execution_count": 8,
   "metadata": {},
   "outputs": [
    {
     "data": {
      "text/plain": [
       "['1.\\nMSI GT76 TITAN DT 9SG',\n",
       " '2.\\nALIENWARE 17 AREA-51M',\n",
       " '3.\\nHP OMEN 15 2020',\n",
       " '4.\\nASUS ZEPHYRUS G14',\n",
       " '5.\\nLENOVO LEGION Y540',\n",
       " '6.\\nASUS ROG ZEPHYRUS G GA502',\n",
       " '7.\\nASUS ROG ZEPHYRUS S GX531',\n",
       " '8.\\nMSI GT83VR 7RE TITAN SLI',\n",
       " '9.\\nASUS ROG ZEPHYRUS DUO 15',\n",
       " '10.\\nDELL G3']"
      ]
     },
     "execution_count": 8,
     "metadata": {},
     "output_type": "execute_result"
    }
   ],
   "source": [
    "for i in  name_tags:\n",
    "    name = i.text\n",
    "    product_name.append(name)\n",
    "product_name [0:10]"
   ]
  },
  {
   "cell_type": "code",
   "execution_count": 9,
   "metadata": {},
   "outputs": [
    {
     "data": {
      "text/plain": [
       "[<selenium.webdriver.remote.webelement.WebElement (session=\"c87565dd00e28a165ab7da009782a8c7\", element=\"56ae4307-91f3-40b6-81aa-b262b2f24d28\")>,\n",
       " <selenium.webdriver.remote.webelement.WebElement (session=\"c87565dd00e28a165ab7da009782a8c7\", element=\"62a5ad84-5653-4875-86c1-1ad2a0064d96\")>,\n",
       " <selenium.webdriver.remote.webelement.WebElement (session=\"c87565dd00e28a165ab7da009782a8c7\", element=\"0a28193e-4eb8-48be-9625-456daa3faa5f\")>,\n",
       " <selenium.webdriver.remote.webelement.WebElement (session=\"c87565dd00e28a165ab7da009782a8c7\", element=\"d18587b3-20e7-43b7-97a2-2d8271c3da22\")>,\n",
       " <selenium.webdriver.remote.webelement.WebElement (session=\"c87565dd00e28a165ab7da009782a8c7\", element=\"bfcbcfb5-a6a7-4255-b58a-c1566a263c23\")>,\n",
       " <selenium.webdriver.remote.webelement.WebElement (session=\"c87565dd00e28a165ab7da009782a8c7\", element=\"9da3dd95-263d-49bf-a451-1c086e208bc4\")>,\n",
       " <selenium.webdriver.remote.webelement.WebElement (session=\"c87565dd00e28a165ab7da009782a8c7\", element=\"24e78afa-6096-4cab-884e-c606d565e5d5\")>,\n",
       " <selenium.webdriver.remote.webelement.WebElement (session=\"c87565dd00e28a165ab7da009782a8c7\", element=\"897da22b-0c28-4735-b101-fb347fe5817b\")>,\n",
       " <selenium.webdriver.remote.webelement.WebElement (session=\"c87565dd00e28a165ab7da009782a8c7\", element=\"e4784542-cc77-499f-a522-b31e5bcf7ec4\")>,\n",
       " <selenium.webdriver.remote.webelement.WebElement (session=\"c87565dd00e28a165ab7da009782a8c7\", element=\"b0e687f2-5be8-4fa6-8fe3-4037b38ca2dc\")>]"
      ]
     },
     "execution_count": 9,
     "metadata": {},
     "output_type": "execute_result"
    }
   ],
   "source": [
    "#lets extract product specifications\n",
    "product_tags = driver.find_elements_by_xpath (\"//div[@class = 'Section-center']\")\n",
    "product_tags [0:10]"
   ]
  },
  {
   "cell_type": "code",
   "execution_count": 10,
   "metadata": {},
   "outputs": [
    {
     "data": {
      "text/plain": [
       "['Sporting a desktop graphics Intel Core i9-9900K coupled with an RTX 2080, the MSI GT76 TITAN 9SG has the same configuration as the Alienware Area-51m. Both machines use massive power bricks which when plugged in trigger an automatic factory overclock of 32-33% for the processors. Even the graphics cards are the same RTX 2080 but MSI has a slightly higher base clock of 1575 MHz whereas the Alienware unit has that set to 1515 MHz. Boost clocks are also different with the MSI unit clocked at 1755 MHz and the Alienware at 1720 MHz. So performance wise, these two are nearly similar until you consider the next two important things in a computer, the RAM and the SSD boot drives. MSI’s gaming laptop has RAM clocked at 2666 MHz and uses two NVMe SSDs in RAID 0 for the boot drive.\\nSPECIFICATION\\nOS : Windows 10 Pro\\nDisplay : 17.3\" (UHD 3840x2160)\\nProcessor : Intel 9th Gen Core i9-9900K | 5000 MHz\\nMemory : 1 TB HDD/64 GBGB DDR4\\nWeight : 4.2 kg\\nDimension : 397 x 330 x 33~42 mm\\nGraphics Processor : NVIDIA GeForce RTX 2080\\nPrice : ₹379990',\n",
       " 'The Alienware Area-51m was certainly the first of its kind to have the desktop grade Intel Core i9-9900K coupled with NVIDIA’s RTX 2080. However, as time goes by competitors brought similar configurations with slightly improved features. When powered on, the Area-51m automatically sets the processor to a 32% overclock which helps out with some video games and a lot more in high-compute tasks. The built-in Control Centre has made it even simpler to push the processor clocks higher should you need it.\\nSPECIFICATION\\nOS : Windows 10 Pro\\nDisplay : 17.3\" (FHD (1920 x 1080))\\nProcessor : Intel 9th Gen Core i9-9900K | 5000 MHz\\nMemory : 1 TB PCIe SSD/32GB DDR4\\nWeight : 3.87 Kg\\nDimension : 42 mm x 402.6 mm x 319.14 mm\\nGraphics Processor : NVIDIA GeForce RTX 2080\\nAVAILABLE ₹ 422000\\nBUY NOW',\n",
       " 'The new HP Omen 15 comes in both 10th generation Intel core and AMD Ryzen 4000 flavours. The company offers the choice of high refresh rate displays going up to 144Hz and also GPU options going up to an Nvidia GeForce RTX 2070 Super Max-Q. You also get a significantly improved thermals management system that actually manages to keep the laptop super cool even under heavy loads.\\nPros\\nImpressive thermals.\\nPerforms well for gamers and content creators.\\nThe display is crisp and colour accurate\\nCons\\nThe lid wobbles and flexes.\\nNvidia GTX 1650Ti feels a little out of place in this config.\\nSPECIFICATION\\nOS : Windows 10 Home\\nDisplay : 15.6\" (1920 x 1080)\\nProcessor : Intel i7-10750H 10th Gen | 1.6GHz\\nMemory : 512 GB SSD/16 GBGB DDR4\\nWeight : 5.40\\nDimension : 14.09 x 9.44 x 0.89\\nGraphics Processor : Nvidia GeForce GTX 1650Ti\\nOUT OF STOCK ₹ 117790\\nBUY NOW\\nAVAILABLE ₹ 118000\\nBUY NOW',\n",
       " 'The Asus Zephyrus G14 is a first-of-its-kind gaming laptop, featuring a high-power 8-core CPU in a 14-inch chassis. Powered by the AMD Ryzen 4000 series processors going all the way up to Ryzen 9 4900HS and an Nvidia GeForce RTX 2060, the AMD Zephyrus G14 is a perfect laptop for those kind of people who like to game and create, but put a priority on doing so using a light-weight machine.\\nPros\\nImpressive performance for the form-factor.\\nAnime Matrix display is a very well implemented gimmick.\\nTruly one-of-a-kind machine at the moment.\\nCons\\nHeat makes the keyboard unusable.\\nUses a mid-range SSD.\\nNo Pg Up or Pg Dn keys\\nSPECIFICATION\\nOS : Windows 10 Home\\nDisplay : 14\" (1920 x 1080)\\nProcessor : AMD 3rd Generation Ryzen 9 | 3.3 GHz\\nMemory : 1 TB SSD/16 GBGB DDR4\\nWeight : 1.65\\nDimension : 32.5 x 22.1 x 1.8\\nGraphics Processor : NVIDIA GeForce RTX 2060\\nAVAILABLE ₹ 164990\\nBUY NOW',\n",
       " 'The Lenovo Legion Y540 is powered by an Intel Core i7-9750H, 16GB of RAM and an Nvidia GeForce RTX 2060 with 6GB of video RAM. The laptop also comes with up to a 1TB Samsung PCIe NVMe solid-state drive, and users looking to expand storage get the option of adding a 2.5-inch hard drive. The display is an IPS pane with a 144Hz refresh rate, but the real highlight of the Legion Y540, besides its performance, is its stealth looks that allows the laptop to blend into an office environment as easily as it would into a LAN party.\\nPros\\nSturdy build, clean look\\nTop performance (incl. gaming)\\nDecent audio quality\\nCons\\nAbysmally short battery life\\nOddly placed keys\\nRear ports are inconvenient\\nSPECIFICATION\\nOS : Windows 10 Home\\nDisplay : 15.6\" (1920 X 1080)\\nProcessor : 9th Generation Core Intel I7-9750H | 2.6 Ghz\\nMemory : 1 TB SSD/8GB DDR4\\nWeight : 2.3\\nDimension : 365mm x 260mm x 25.9mm\\nGraphics Processor : NVIDIA® GeForce RTX™ 2060\\nOUT OF STOCK ₹ 79990\\nBUY NOW\\nAVAILABLE ₹ 178690\\nBUY NOW',\n",
       " 'The Ryzen 7 3750H powered Asus ROG Zephyrus G is a budget-friendly gaming laptop that offers just enough fire power to get you into the world of PC gaming. The Nvidia GeForce GTX 1660Ti takes care of all your gaming needs, driving the 120Hz IPS panel with relative ease\\nPros\\nNoteworthy performance\\nComfortable keyboard\\nSurprisingly good audio\\nCons\\nNoisy fans can distract\\nDisplay could use more colour\\nNo inbuilt webcam\\nSPECIFICATION\\nOS : Windows 10 Home\\nDisplay : 15.6\" (1920 x 1080)\\nProcessor : AMD Ryzen 7 Quad Core 3750H | 2.3 GHz\\nMemory : 512 GB SSD/16GB DDR4\\nWeight : 2.2\\nDimension : 360 x 252 x 20.4\\nGraphics Processor : NVIDIA Geforce GTX 1660 Ti\\nOUT OF STOCK ₹ 79990\\nBUY NOW',\n",
       " 'The Asus Zephyrus S (GX531) manages to get a few things very right. It packs a very powerful set of components into a slim chassis, ideal for those who like to carry their gaming or editing machines around. The Pantone validated 144Hz display is great right out of the box. the keyboard will take plenty of getting used to, but the trackpad is definitely a strong point. All this aside, the GX531 is also a pretty great gaming machine.\\nSPECIFICATION\\nOS : Windows 10 Home\\nDisplay : 15.6\" (1920 X 1080)\\nProcessor : 9th Gen Intel Core i7-8750H | 2.2 GHz\\nMemory : 512GB SSD/16 GBGB DDR4\\nWeight : 2.1\\nDimension : 360 (W) x 268 (D) x 15.35~16.15 (H) mm\\nGraphics Processor : NVIDIA® GeForce RTX™ 2070 (Max-Q)\\nAVAILABLE ₹ 239990\\nBUY NOW\\nAVAILABLE ₹ 256473\\nBUY NOW',\n",
       " 'MSI does not have a dual GTX 1080 gaming laptop. Instead, it has the next best thing for roughly half the price of the two flagships. The GT83VR 7RE Titan SLI packs two GTX 1070 GPUs in SLI along with the Intel Core i7 7820HK. It also has a massive 18.4-inch IPS display and 32 GB of RAM. Performance wise it isn\\'t that far behind since games can hardly make use of all the firepower it has, but synthetic benchmarks put it way behind the two flagships mentioned here.\\nSPECIFICATION\\nOS : Windows 10 Home 64 bit\\nDisplay : 18.4\" (1920 x 1080)\\nProcessor : Intel CM238 Core i7-7820HK+CM238 7th Gen | 3.5GHz\\nMemory : 1.5 TB SATA/64GB DDR4\\nWeight : 5.5\\nDimension : 458 x 339 x 69\\nGraphics Processor : Dual GTX1070\\nPrice : ₹349990',\n",
       " 'The machine is powered by an Intel Core i7-10875H processor, offering 8 cores and 16 threads. So, you can leave behind all your concerns around the CPU bottlenecking the overall performance during gaming. With an Nvidia GeForce RTX 2070 Max-Q, this laptop can manage pretty much anything game you throw at it and then some more. The star of the show however is the awesome 300Hz refresh rate capable, 1080p IPS panel on this gaming laptop. Yes, you read that correctly, 300Hz, which means you can get silky smooth, brag-worthy 300FPS on e-sports centric games on this machine.\\nSPECIFICATION\\nOS : Windows 10\\nDisplay : 15.6\" (3840 x 1100)\\nProcessor : Intel Core i7 10th Gen 10875H | NA\\nMemory : 512 GB SSD/4 GBGB DDR4\\nWeight : 2.4\\nDimension : 268.30 x 360.00 x 20.90\\nGraphics Processor : NVIDIA GeForce RTX 2070 Max-Q\\nAVAILABLE ₹ 244990\\nBUY NOW',\n",
       " \"The Dell G3 is a capable entry-level gaming laptop in an Inspiron's clothes. It has a 9th-gen Intel Core i5 CPU, up to 8GB of RAM, and an NVIDIA GeForce GTX 1650 with 4GB of GDDR5 video RAM. For storage, it's got a 512GB PCIe NVMe SSD. It plays games like Doom on high graphics settings at 60fps without any stutters.\\nPros\\nSeriously fast fingerprint scanner\\nSpeakers are quite loud\\nStays cool when clock rates rise\\nCons\\nBulky at 2.53 kilogrammes\\nKeys lack sufficient travel\\nColours appear washed out\\nSPECIFICATION\\nOS : Windows 10 Home Plus\\nDisplay : 15.6 MP | NA\\nProcessor : 8th Gen Intel core i5-8300H | 2.3GHz\\nMemory : 1TB HDD/8GB DDR4\\nWeight : 2.53\\nDimension : 22.7 X 380 X 258\\nGraphics Processor : NVidia GeForce GTX 1050\\nAVAILABLE ₹ 61990\\nBUY NOW\"]"
      ]
     },
     "execution_count": 10,
     "metadata": {},
     "output_type": "execute_result"
    }
   ],
   "source": [
    "for i in  product_tags:\n",
    "    product = i.text\n",
    "    product_specs.append(product)\n",
    "product_specs [0:10]"
   ]
  },
  {
   "cell_type": "code",
   "execution_count": 11,
   "metadata": {},
   "outputs": [
    {
     "name": "stdout",
     "output_type": "stream",
     "text": [
      "10 10\n"
     ]
    }
   ],
   "source": [
    "print (len (product_name),len (product_specs))"
   ]
  },
  {
   "cell_type": "code",
   "execution_count": 13,
   "metadata": {},
   "outputs": [],
   "source": [
    "#importing pandas\n",
    "laptop = pd.DataFrame ({})\n",
    "laptop ['NAME'] = product_name\n",
    "laptop ['SPECIFICATIONS'] = product_specs"
   ]
  },
  {
   "cell_type": "code",
   "execution_count": 14,
   "metadata": {},
   "outputs": [
    {
     "data": {
      "text/html": [
       "<div>\n",
       "<style scoped>\n",
       "    .dataframe tbody tr th:only-of-type {\n",
       "        vertical-align: middle;\n",
       "    }\n",
       "\n",
       "    .dataframe tbody tr th {\n",
       "        vertical-align: top;\n",
       "    }\n",
       "\n",
       "    .dataframe thead th {\n",
       "        text-align: right;\n",
       "    }\n",
       "</style>\n",
       "<table border=\"1\" class=\"dataframe\">\n",
       "  <thead>\n",
       "    <tr style=\"text-align: right;\">\n",
       "      <th></th>\n",
       "      <th>NAME</th>\n",
       "      <th>SPECIFICATIONS</th>\n",
       "    </tr>\n",
       "  </thead>\n",
       "  <tbody>\n",
       "    <tr>\n",
       "      <th>0</th>\n",
       "      <td>1.\\nMSI GT76 TITAN DT 9SG</td>\n",
       "      <td>Sporting a desktop graphics Intel Core i9-9900...</td>\n",
       "    </tr>\n",
       "    <tr>\n",
       "      <th>1</th>\n",
       "      <td>2.\\nALIENWARE 17 AREA-51M</td>\n",
       "      <td>The Alienware Area-51m was certainly the first...</td>\n",
       "    </tr>\n",
       "    <tr>\n",
       "      <th>2</th>\n",
       "      <td>3.\\nHP OMEN 15 2020</td>\n",
       "      <td>The new HP Omen 15 comes in both 10th generati...</td>\n",
       "    </tr>\n",
       "    <tr>\n",
       "      <th>3</th>\n",
       "      <td>4.\\nASUS ZEPHYRUS G14</td>\n",
       "      <td>The Asus Zephyrus G14 is a first-of-its-kind g...</td>\n",
       "    </tr>\n",
       "    <tr>\n",
       "      <th>4</th>\n",
       "      <td>5.\\nLENOVO LEGION Y540</td>\n",
       "      <td>The Lenovo Legion Y540 is powered by an Intel ...</td>\n",
       "    </tr>\n",
       "    <tr>\n",
       "      <th>5</th>\n",
       "      <td>6.\\nASUS ROG ZEPHYRUS G GA502</td>\n",
       "      <td>The Ryzen 7 3750H powered Asus ROG Zephyrus G ...</td>\n",
       "    </tr>\n",
       "    <tr>\n",
       "      <th>6</th>\n",
       "      <td>7.\\nASUS ROG ZEPHYRUS S GX531</td>\n",
       "      <td>The Asus Zephyrus S (GX531) manages to get a f...</td>\n",
       "    </tr>\n",
       "    <tr>\n",
       "      <th>7</th>\n",
       "      <td>8.\\nMSI GT83VR 7RE TITAN SLI</td>\n",
       "      <td>MSI does not have a dual GTX 1080 gaming lapto...</td>\n",
       "    </tr>\n",
       "    <tr>\n",
       "      <th>8</th>\n",
       "      <td>9.\\nASUS ROG ZEPHYRUS DUO 15</td>\n",
       "      <td>The machine is powered by an Intel Core i7-108...</td>\n",
       "    </tr>\n",
       "    <tr>\n",
       "      <th>9</th>\n",
       "      <td>10.\\nDELL G3</td>\n",
       "      <td>The Dell G3 is a capable entry-level gaming la...</td>\n",
       "    </tr>\n",
       "  </tbody>\n",
       "</table>\n",
       "</div>"
      ],
      "text/plain": [
       "                            NAME  \\\n",
       "0      1.\\nMSI GT76 TITAN DT 9SG   \n",
       "1      2.\\nALIENWARE 17 AREA-51M   \n",
       "2            3.\\nHP OMEN 15 2020   \n",
       "3          4.\\nASUS ZEPHYRUS G14   \n",
       "4         5.\\nLENOVO LEGION Y540   \n",
       "5  6.\\nASUS ROG ZEPHYRUS G GA502   \n",
       "6  7.\\nASUS ROG ZEPHYRUS S GX531   \n",
       "7   8.\\nMSI GT83VR 7RE TITAN SLI   \n",
       "8   9.\\nASUS ROG ZEPHYRUS DUO 15   \n",
       "9                   10.\\nDELL G3   \n",
       "\n",
       "                                      SPECIFICATIONS  \n",
       "0  Sporting a desktop graphics Intel Core i9-9900...  \n",
       "1  The Alienware Area-51m was certainly the first...  \n",
       "2  The new HP Omen 15 comes in both 10th generati...  \n",
       "3  The Asus Zephyrus G14 is a first-of-its-kind g...  \n",
       "4  The Lenovo Legion Y540 is powered by an Intel ...  \n",
       "5  The Ryzen 7 3750H powered Asus ROG Zephyrus G ...  \n",
       "6  The Asus Zephyrus S (GX531) manages to get a f...  \n",
       "7  MSI does not have a dual GTX 1080 gaming lapto...  \n",
       "8  The machine is powered by an Intel Core i7-108...  \n",
       "9  The Dell G3 is a capable entry-level gaming la...  "
      ]
     },
     "execution_count": 14,
     "metadata": {},
     "output_type": "execute_result"
    }
   ],
   "source": [
    "laptop"
   ]
  },
  {
   "cell_type": "code",
   "execution_count": 15,
   "metadata": {},
   "outputs": [],
   "source": [
    "driver.close()"
   ]
  },
  {
   "cell_type": "raw",
   "metadata": {},
   "source": [
    "Q6. Write a program to scrap details of all the funding deals for second quarter (i.e. July 20 – September 20) from trak.in."
   ]
  },
  {
   "cell_type": "code",
   "execution_count": 3,
   "metadata": {},
   "outputs": [],
   "source": [
    "#connecting to webdriver\n",
    "driver = webdriver.Chrome(r\"C://chromedriver.exe\")"
   ]
  },
  {
   "cell_type": "code",
   "execution_count": 4,
   "metadata": {},
   "outputs": [],
   "source": [
    "driver.get(\"https://trak.in/india-startup-funding-investment-2015/\")"
   ]
  },
  {
   "cell_type": "code",
   "execution_count": 5,
   "metadata": {},
   "outputs": [],
   "source": [
    "url1 = \"https://trak.in/india-startup-funding-investment-2015/\""
   ]
  },
  {
   "cell_type": "code",
   "execution_count": 6,
   "metadata": {},
   "outputs": [],
   "source": [
    "driver.get (url1)"
   ]
  },
  {
   "cell_type": "code",
   "execution_count": 15,
   "metadata": {},
   "outputs": [],
   "source": [
    "julyname_2020 = []\n",
    "july_2020 = []\n",
    "augustname_2020 =[]\n",
    "august_2020 =[]\n",
    "septembername_2020 =[]\n",
    "september_2020 =[]"
   ]
  },
  {
   "cell_type": "code",
   "execution_count": 33,
   "metadata": {},
   "outputs": [
    {
     "data": {
      "text/plain": [
       "[<selenium.webdriver.remote.webelement.WebElement (session=\"6e45eb2104e662ec2aa06d0aaa315194\", element=\"cb2ee5ee-ed75-4732-8142-02cd670ae6e8\")>]"
      ]
     },
     "execution_count": 33,
     "metadata": {},
     "output_type": "execute_result"
    }
   ],
   "source": [
    "#lets extract July2020\n",
    "julyname_tags = driver.find_elements_by_xpath (\"//h2[@class = 'tablepress-table-name tablepress-table-name-id-48']\")\n",
    "julyname_tags [0:1]"
   ]
  },
  {
   "cell_type": "code",
   "execution_count": 34,
   "metadata": {},
   "outputs": [
    {
     "data": {
      "text/plain": [
       "['July, 2020']"
      ]
     },
     "execution_count": 34,
     "metadata": {},
     "output_type": "execute_result"
    }
   ],
   "source": [
    "for i in julyname_tags:\n",
    "    name = i.text\n",
    "    julyname_2020.append(name)\n",
    "julyname_2020 [0:1]"
   ]
  },
  {
   "cell_type": "code",
   "execution_count": 47,
   "metadata": {},
   "outputs": [
    {
     "data": {
      "text/plain": [
       "[]"
      ]
     },
     "execution_count": 47,
     "metadata": {},
     "output_type": "execute_result"
    }
   ],
   "source": [
    "july_tags = driver.find_elements_by_xpath (\"//div[@id = 'tablepress-48_wrapper.dataTables_wrapper.no-footer']\")\n",
    "july_tags [0:1]"
   ]
  },
  {
   "cell_type": "code",
   "execution_count": 48,
   "metadata": {},
   "outputs": [
    {
     "data": {
      "text/plain": [
       "['July, 2020']"
      ]
     },
     "execution_count": 48,
     "metadata": {},
     "output_type": "execute_result"
    }
   ],
   "source": [
    "for i in  july_tags:\n",
    "    index = i.text\n",
    "    july_2020.append(index)\n",
    "july_2020 [0:1]"
   ]
  },
  {
   "cell_type": "code",
   "execution_count": 38,
   "metadata": {},
   "outputs": [
    {
     "data": {
      "text/plain": [
       "[<selenium.webdriver.remote.webelement.WebElement (session=\"6e45eb2104e662ec2aa06d0aaa315194\", element=\"2b8848eb-ba29-408f-a92a-89d7cf255d91\")>]"
      ]
     },
     "execution_count": 38,
     "metadata": {},
     "output_type": "execute_result"
    }
   ],
   "source": [
    "augustname_tags = driver.find_elements_by_xpath (\"//h2[@class = 'tablepress-table-name tablepress-table-name-id-49']\")\n",
    "augustname_tags [0:1]"
   ]
  },
  {
   "cell_type": "code",
   "execution_count": 40,
   "metadata": {},
   "outputs": [
    {
     "data": {
      "text/plain": [
       "['August, 2020']"
      ]
     },
     "execution_count": 40,
     "metadata": {},
     "output_type": "execute_result"
    }
   ],
   "source": [
    "for i in augustname_tags:\n",
    "    name = i.text\n",
    "    augustname_2020.append(name)\n",
    "augustname_2020 [0:1]"
   ]
  },
  {
   "cell_type": "code",
   "execution_count": 42,
   "metadata": {},
   "outputs": [
    {
     "data": {
      "text/plain": [
       "[]"
      ]
     },
     "execution_count": 42,
     "metadata": {},
     "output_type": "execute_result"
    }
   ],
   "source": [
    "august_tags = driver.find_elements_by_xpath (\"//div[@id = 'tablepress-49_wrapper.dataTables_wrapper.no-footer']\")\n",
    "august_tags [0:1]"
   ]
  },
  {
   "cell_type": "code",
   "execution_count": 45,
   "metadata": {},
   "outputs": [
    {
     "data": {
      "text/plain": [
       "[]"
      ]
     },
     "execution_count": 45,
     "metadata": {},
     "output_type": "execute_result"
    }
   ],
   "source": [
    "for i in  august_tags:\n",
    "    index = i.text\n",
    "    august_2020.append(index)\n",
    "august_2020 [0:1]"
   ]
  },
  {
   "cell_type": "code",
   "execution_count": 39,
   "metadata": {},
   "outputs": [
    {
     "data": {
      "text/plain": [
       "[<selenium.webdriver.remote.webelement.WebElement (session=\"6e45eb2104e662ec2aa06d0aaa315194\", element=\"a6c44632-adae-4f35-837f-6a1263f1c449\")>]"
      ]
     },
     "execution_count": 39,
     "metadata": {},
     "output_type": "execute_result"
    }
   ],
   "source": [
    "septembername_tags = driver.find_elements_by_xpath (\"//h2[@class = 'tablepress-table-name tablepress-table-name-id-50']\")\n",
    "septembername_tags [0:1]"
   ]
  },
  {
   "cell_type": "code",
   "execution_count": 41,
   "metadata": {},
   "outputs": [
    {
     "data": {
      "text/plain": [
       "['September, 2020']"
      ]
     },
     "execution_count": 41,
     "metadata": {},
     "output_type": "execute_result"
    }
   ],
   "source": [
    "for i in septembername_tags:\n",
    "    name = i.text\n",
    "    septembername_2020.append(name)\n",
    "septembername_2020 [0:1]"
   ]
  },
  {
   "cell_type": "code",
   "execution_count": 43,
   "metadata": {},
   "outputs": [
    {
     "data": {
      "text/plain": [
       "[]"
      ]
     },
     "execution_count": 43,
     "metadata": {},
     "output_type": "execute_result"
    }
   ],
   "source": [
    "september_tags = driver.find_elements_by_xpath (\"//div[@id = 'tablepress-50_wrapper.dataTables_wrapper.no-footer']\")\n",
    "september_tags [0:1]"
   ]
  },
  {
   "cell_type": "code",
   "execution_count": 44,
   "metadata": {},
   "outputs": [
    {
     "data": {
      "text/plain": [
       "[]"
      ]
     },
     "execution_count": 44,
     "metadata": {},
     "output_type": "execute_result"
    }
   ],
   "source": [
    "for i in  september_tags:\n",
    "    index = i.text\n",
    "    september_2020.append(index)\n",
    "september_2020 [0:1]"
   ]
  },
  {
   "cell_type": "code",
   "execution_count": 49,
   "metadata": {},
   "outputs": [],
   "source": [
    "driver.close()"
   ]
  },
  {
   "cell_type": "raw",
   "metadata": {},
   "source": [
    "Q5. Write a program to scrap geospatial coordinates (latitude, longitude) of a city searched on google maps."
   ]
  },
  {
   "cell_type": "code",
   "execution_count": 50,
   "metadata": {},
   "outputs": [],
   "source": [
    "import pandas as pd\n",
    "from bs4 import BeautifulSoup\n",
    "import requests"
   ]
  },
  {
   "cell_type": "code",
   "execution_count": 51,
   "metadata": {},
   "outputs": [],
   "source": [
    "import time"
   ]
  },
  {
   "cell_type": "code",
   "execution_count": 56,
   "metadata": {},
   "outputs": [
    {
     "ename": "IndexError",
     "evalue": "list index out of range",
     "output_type": "error",
     "traceback": [
      "\u001b[1;31m---------------------------------------------------------------------------\u001b[0m",
      "\u001b[1;31mIndexError\u001b[0m                                Traceback (most recent call last)",
      "\u001b[1;32m<ipython-input-56-3cf64f9020a4>\u001b[0m in \u001b[0;36m<module>\u001b[1;34m\u001b[0m\n\u001b[0;32m      4\u001b[0m \u001b[0mresponse\u001b[0m \u001b[1;33m=\u001b[0m \u001b[0mrequests\u001b[0m\u001b[1;33m.\u001b[0m\u001b[0mget\u001b[0m\u001b[1;33m(\u001b[0m\u001b[0mgeo_url\u001b[0m\u001b[1;33m,\u001b[0m \u001b[0mparams\u001b[0m \u001b[1;33m=\u001b[0m \u001b[0mmy_address\u001b[0m\u001b[1;33m)\u001b[0m\u001b[1;33m\u001b[0m\u001b[1;33m\u001b[0m\u001b[0m\n\u001b[0;32m      5\u001b[0m \u001b[0mresults\u001b[0m \u001b[1;33m=\u001b[0m \u001b[0mresponse\u001b[0m\u001b[1;33m.\u001b[0m\u001b[0mjson\u001b[0m\u001b[1;33m(\u001b[0m\u001b[1;33m)\u001b[0m\u001b[1;33m[\u001b[0m\u001b[1;34m'results'\u001b[0m\u001b[1;33m]\u001b[0m\u001b[1;33m\u001b[0m\u001b[1;33m\u001b[0m\u001b[0m\n\u001b[1;32m----> 6\u001b[1;33m \u001b[0mmy_geo\u001b[0m \u001b[1;33m=\u001b[0m \u001b[0mresults\u001b[0m\u001b[1;33m[\u001b[0m\u001b[1;36m0\u001b[0m\u001b[1;33m]\u001b[0m\u001b[1;33m[\u001b[0m\u001b[1;34m'geometry'\u001b[0m\u001b[1;33m]\u001b[0m\u001b[1;33m[\u001b[0m\u001b[1;34m'location'\u001b[0m\u001b[1;33m]\u001b[0m\u001b[1;33m\u001b[0m\u001b[1;33m\u001b[0m\u001b[0m\n\u001b[0m",
      "\u001b[1;31mIndexError\u001b[0m: list index out of range"
     ]
    }
   ],
   "source": [
    "geo_url = 'http://maps.googleapis.com/maps/api/geocode/json'\n",
    "my_address = {'address': '233 A, Sector-1, Kamna, Vaishali, Ghaziabad, Uttar Pradesh, India', \n",
    "             'language': 'en'}\n",
    "response = requests.get(geo_url, params = my_address)\n",
    "results = response.json()['results']\n",
    "my_geo = results[0]['geometry']['location']"
   ]
  },
  {
   "cell_type": "code",
   "execution_count": 54,
   "metadata": {},
   "outputs": [
    {
     "ename": "NameError",
     "evalue": "name 'my_geo' is not defined",
     "output_type": "error",
     "traceback": [
      "\u001b[1;31m---------------------------------------------------------------------------\u001b[0m",
      "\u001b[1;31mNameError\u001b[0m                                 Traceback (most recent call last)",
      "\u001b[1;32m<ipython-input-54-690d96fd0234>\u001b[0m in \u001b[0;36m<module>\u001b[1;34m\u001b[0m\n\u001b[1;32m----> 1\u001b[1;33m \u001b[0mprint\u001b[0m\u001b[1;33m(\u001b[0m\u001b[1;34m\"Longitude:\"\u001b[0m\u001b[1;33m,\u001b[0m\u001b[0mmy_geo\u001b[0m\u001b[1;33m[\u001b[0m\u001b[1;34m'lng'\u001b[0m\u001b[1;33m]\u001b[0m\u001b[1;33m,\u001b[0m\u001b[1;34m\"\\n\"\u001b[0m\u001b[1;33m,\u001b[0m\u001b[1;34m\"Latitude:\"\u001b[0m\u001b[1;33m,\u001b[0m\u001b[0mmy_geo\u001b[0m\u001b[1;33m[\u001b[0m\u001b[1;34m'lat'\u001b[0m\u001b[1;33m]\u001b[0m\u001b[1;33m)\u001b[0m\u001b[1;33m\u001b[0m\u001b[1;33m\u001b[0m\u001b[0m\n\u001b[0m",
      "\u001b[1;31mNameError\u001b[0m: name 'my_geo' is not defined"
     ]
    }
   ],
   "source": [
    "print(\"Longitude:\",my_geo['lng'],\"\\n\",\"Latitude:\",my_geo['lat'])"
   ]
  },
  {
   "cell_type": "code",
   "execution_count": null,
   "metadata": {},
   "outputs": [],
   "source": []
  }
 ],
 "metadata": {
  "kernelspec": {
   "display_name": "Python 3",
   "language": "python",
   "name": "python3"
  },
  "language_info": {
   "codemirror_mode": {
    "name": "ipython",
    "version": 3
   },
   "file_extension": ".py",
   "mimetype": "text/x-python",
   "name": "python",
   "nbconvert_exporter": "python",
   "pygments_lexer": "ipython3",
   "version": "3.7.6"
  }
 },
 "nbformat": 4,
 "nbformat_minor": 4
}
