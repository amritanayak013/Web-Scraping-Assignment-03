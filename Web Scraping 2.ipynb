{
 "cells": [
  {
   "cell_type": "raw",
   "metadata": {},
   "source": [
    "Q4. Write a python program to search for a smartphone(e.g.: Oneplus Nord, pixel 4A, etc.) on www.flipkart.com and scrape following details for all the search results displayed on 1st page. Details to be scraped: “Brand Name”, “Smartphone name”, “Colour”, “RAM”, “Storage(ROM)”, “Primary Camera”, “Secondary Camera”, “Display Size”, “Display Resolution”, “Processor”, “Processor Cores”, “Battery Capacity”, “Price”, “Product URL”. Incase if any of the details is missing then replace it by “- “. Save your results in a dataframe and CSV."
   ]
  },
  {
   "cell_type": "code",
   "execution_count": 1,
   "metadata": {},
   "outputs": [],
   "source": [
    "import selenium\n",
    "import pandas as pd\n",
    "from selenium import webdriver\n",
    "from selenium.common.exceptions import NoSuchElementException"
   ]
  },
  {
   "cell_type": "code",
   "execution_count": 2,
   "metadata": {},
   "outputs": [],
   "source": [
    "#connecting to webdriver\n",
    "driver = webdriver.Chrome(r\"C://chromedriver.exe\")"
   ]
  },
  {
   "cell_type": "code",
   "execution_count": 3,
   "metadata": {},
   "outputs": [],
   "source": [
    "driver.get(\"https://www.flipkart.com/\")"
   ]
  },
  {
   "cell_type": "code",
   "execution_count": 4,
   "metadata": {},
   "outputs": [],
   "source": [
    "search_loc = driver.find_element_by_xpath (\"//input[@class = '_3704LK']\")\n",
    "search_loc.send_keys(\"Pixel 4A\")"
   ]
  },
  {
   "cell_type": "code",
   "execution_count": 5,
   "metadata": {},
   "outputs": [],
   "source": [
    "url = \"https://www.flipkart.com/search?q=Pixel%204A&otracker=search&otracker1=search&marketplace=FLIPKART&as-show=on&as=off\""
   ]
  },
  {
   "cell_type": "code",
   "execution_count": 6,
   "metadata": {},
   "outputs": [],
   "source": [
    "# lets open the page through web driver\n",
    "driver.get(url)"
   ]
  },
  {
   "cell_type": "code",
   "execution_count": 9,
   "metadata": {},
   "outputs": [],
   "source": [
    "brand = []\n",
    "product_description = []\n",
    "price = []"
   ]
  },
  {
   "cell_type": "code",
   "execution_count": 7,
   "metadata": {},
   "outputs": [
    {
     "data": {
      "text/plain": [
       "[<selenium.webdriver.remote.webelement.WebElement (session=\"26088f41090558136e35b895b17291cd\", element=\"1cf4411a-5972-4e51-98e0-f73b5f1b6cef\")>,\n",
       " <selenium.webdriver.remote.webelement.WebElement (session=\"26088f41090558136e35b895b17291cd\", element=\"df9a3105-9800-4219-9125-a3b7e78bf9b9\")>,\n",
       " <selenium.webdriver.remote.webelement.WebElement (session=\"26088f41090558136e35b895b17291cd\", element=\"c4ed416e-4bf5-46aa-8f79-8117e3b626f9\")>,\n",
       " <selenium.webdriver.remote.webelement.WebElement (session=\"26088f41090558136e35b895b17291cd\", element=\"ef8ccaba-93d7-430c-b134-81b12dd8283e\")>,\n",
       " <selenium.webdriver.remote.webelement.WebElement (session=\"26088f41090558136e35b895b17291cd\", element=\"ec73d03a-dea0-4b53-a03d-0d73d6089f91\")>,\n",
       " <selenium.webdriver.remote.webelement.WebElement (session=\"26088f41090558136e35b895b17291cd\", element=\"1a8267a5-3d12-4d2e-86ea-17bb9a53428c\")>,\n",
       " <selenium.webdriver.remote.webelement.WebElement (session=\"26088f41090558136e35b895b17291cd\", element=\"69a4ce7d-75dc-4e95-9a8d-8de6f9d92bd1\")>,\n",
       " <selenium.webdriver.remote.webelement.WebElement (session=\"26088f41090558136e35b895b17291cd\", element=\"fc5e0137-d633-44bf-94a1-cb7118f5e7ce\")>,\n",
       " <selenium.webdriver.remote.webelement.WebElement (session=\"26088f41090558136e35b895b17291cd\", element=\"e5ff0372-0bf7-4f02-af7b-8c8d8f40b509\")>,\n",
       " <selenium.webdriver.remote.webelement.WebElement (session=\"26088f41090558136e35b895b17291cd\", element=\"9e336a25-9cdd-4849-94a4-a24d42abc3e5\")>]"
      ]
     },
     "execution_count": 7,
     "metadata": {},
     "output_type": "execute_result"
    }
   ],
   "source": [
    "brands_tags = driver.find_elements_by_xpath (\"//div[@class = '_4rR01T']\")\n",
    "brands_tags [0:10]"
   ]
  },
  {
   "cell_type": "code",
   "execution_count": 10,
   "metadata": {},
   "outputs": [
    {
     "data": {
      "text/plain": [
       "['Google Pixel 4a (Just Black, 128 GB)',\n",
       " 'REDMI Note 9 (Arctic White, 64 GB)',\n",
       " 'REDMI Note 9 (Shadow Black, 64 GB)',\n",
       " 'REDMI 9 Power (Blazing Blue, 64 GB)',\n",
       " 'REDMI 9 Power (Electric Green, 64 GB)',\n",
       " 'Redmi 9 Prime (Matte Black, 64 GB)',\n",
       " 'REDMI Note 9 (Aqua Green, 64 GB)',\n",
       " 'REDMI 9 Power (Mighty Black, 64 GB)',\n",
       " 'REDMI 9 Power (Mighty Black, 128 GB)',\n",
       " 'REDMI Note 9 (Pebble Grey, 64 GB)']"
      ]
     },
     "execution_count": 10,
     "metadata": {},
     "output_type": "execute_result"
    }
   ],
   "source": [
    "for i in  brands_tags:\n",
    "    brands = i.text\n",
    "    brand.append(brands)\n",
    "brand [0:10]"
   ]
  },
  {
   "cell_type": "code",
   "execution_count": 13,
   "metadata": {},
   "outputs": [
    {
     "data": {
      "text/plain": [
       "[<selenium.webdriver.remote.webelement.WebElement (session=\"26088f41090558136e35b895b17291cd\", element=\"572ee3b9-decc-411f-b5b7-669754e29ec2\")>,\n",
       " <selenium.webdriver.remote.webelement.WebElement (session=\"26088f41090558136e35b895b17291cd\", element=\"cd2b17ef-481c-4bd3-ace8-fc1f3c4b0488\")>,\n",
       " <selenium.webdriver.remote.webelement.WebElement (session=\"26088f41090558136e35b895b17291cd\", element=\"5d58034e-c407-4d9a-9424-bfb91c595b34\")>,\n",
       " <selenium.webdriver.remote.webelement.WebElement (session=\"26088f41090558136e35b895b17291cd\", element=\"c022a820-6887-4898-9b49-dad82d04e7ee\")>,\n",
       " <selenium.webdriver.remote.webelement.WebElement (session=\"26088f41090558136e35b895b17291cd\", element=\"27ff7efc-e8ef-49a6-b343-21be61d8d61f\")>,\n",
       " <selenium.webdriver.remote.webelement.WebElement (session=\"26088f41090558136e35b895b17291cd\", element=\"fc7c79ec-6df6-4029-b5c8-d47ccda21fa7\")>,\n",
       " <selenium.webdriver.remote.webelement.WebElement (session=\"26088f41090558136e35b895b17291cd\", element=\"e2c613ce-966e-4f76-87ed-d76a898ef945\")>,\n",
       " <selenium.webdriver.remote.webelement.WebElement (session=\"26088f41090558136e35b895b17291cd\", element=\"6dcf6baf-6947-4acc-bc9d-20bc28864f04\")>,\n",
       " <selenium.webdriver.remote.webelement.WebElement (session=\"26088f41090558136e35b895b17291cd\", element=\"ef4471c3-c77f-4500-a89d-9c863673feda\")>,\n",
       " <selenium.webdriver.remote.webelement.WebElement (session=\"26088f41090558136e35b895b17291cd\", element=\"ba56add3-5264-48d6-9126-d83f2112e87b\")>]"
      ]
     },
     "execution_count": 13,
     "metadata": {},
     "output_type": "execute_result"
    }
   ],
   "source": [
    "description_tags = driver.find_elements_by_xpath (\"//ul[@class = '_1xgFaf']\")\n",
    "description_tags [0:10]"
   ]
  },
  {
   "cell_type": "code",
   "execution_count": 14,
   "metadata": {},
   "outputs": [
    {
     "data": {
      "text/plain": [
       "['6 GB RAM | 128 GB ROM\\n14.76 cm (5.81 inch) Full HD+ Display\\n12.2MP Rear Camera | 8MP Front Camera\\n3140 mAh Battery\\nQualcomm Snapdragon 730G Processor\\nOLED Display\\n1 Year Warranty',\n",
       " '4 GB RAM | 64 GB ROM | Expandable Upto 512 GB\\n16.59 cm (6.53 inch) Full HD+ Display\\n48MP Rear Camera\\n5020 mAh Battery\\nMediaTek Helio G85 Processor\\n1 year manufacturer warranty for device and 6 months manufacturer warranty for in-box accessories including batteries from the date of purchase',\n",
       " '4 GB RAM | 64 GB ROM | Expandable Upto 512 GB\\n16.59 cm (6.53 inch) Full HD+ Display\\n48MP Rear Camera\\n5020 mAh Battery\\nMediaTek Helio G85 Processor\\n1 year manufacturer warranty for device and 6 months manufacturer warranty for in-box accessories including batteries from the date of purchase',\n",
       " '4 GB RAM | 64 GB ROM\\n16.59 cm (6.53 inch) Full HD+ Display\\n48MP Rear Camera | 8MP Front Camera\\n6000 mAh Battery\\nQualcomm Snapdragon 662 Processor\\n1 year manufacturer warranty for device and 6 months manufacturer warranty for in-box accessories including batteries from the date of purchase',\n",
       " '4 GB RAM | 64 GB ROM\\n16.59 cm (6.53 inch) Full HD+ Display\\n48MP Rear Camera | 8MP Front Camera\\n6000 mAh Battery\\nQualcomm Snapdragon 662 Processor\\n1 year manufacturer warranty for device and 6 months manufacturer warranty for in-box accessories including batteries from the date of purchase',\n",
       " '4 GB RAM | 64 GB ROM | Expandable Upto 512 GB\\n16.59 cm (6.53 inch) Full HD+ Display\\n13MP Rear Camera | 8MP Front Camera\\n5020 mAh Battery\\nMediaTek Helio G80 Processor\\n1 Year Manufacturer Warranty',\n",
       " '4 GB RAM | 64 GB ROM | Expandable Upto 512 GB\\n16.59 cm (6.53 inch) Full HD+ Display\\n48MP Rear Camera\\n5020 mAh Battery\\nMediaTek Helio G85 Processor\\n1 year manufacturer warranty for device and 6 months manufacturer warranty for in-box accessories including batteries from the date of purchase',\n",
       " '4 GB RAM | 64 GB ROM\\n16.59 cm (6.53 inch) Full HD+ Display\\n48MP Rear Camera | 8MP Front Camera\\n6000 mAh Battery\\nQualcomm Snapdragon 662 Processor\\n1 year manufacturer warranty for device and 6 months manufacturer warranty for in-box accessories including batteries from the date of purchase',\n",
       " '6 GB RAM | 128 GB ROM\\n16.59 cm (6.53 inch) Full HD+ Display\\n48MP Rear Camera | 8MP Front Camera\\n6000 mAh Battery\\nQualcomm® Snapdragon™ 662 Processor\\n1 year manufacturer warranty for device and 6 months manufacturer warranty for in-box accessories including batteries from the date of purchase',\n",
       " '4 GB RAM | 64 GB ROM | Expandable Upto 512 GB\\n16.59 cm (6.53 inch) Full HD+ Display\\n48MP Rear Camera\\n5020 mAh Battery\\nMediaTek Helio G85 Processor\\n1 year manufacturer warranty for device and 6 months manufacturer warranty for in-box accessories including batteries from the date of purchase']"
      ]
     },
     "execution_count": 14,
     "metadata": {},
     "output_type": "execute_result"
    }
   ],
   "source": [
    "for i in  description_tags:\n",
    "    description = i.text\n",
    "    product_description.append(description)\n",
    "product_description [0:10]"
   ]
  },
  {
   "cell_type": "code",
   "execution_count": 15,
   "metadata": {},
   "outputs": [
    {
     "data": {
      "text/plain": [
       "[<selenium.webdriver.remote.webelement.WebElement (session=\"26088f41090558136e35b895b17291cd\", element=\"b7413f33-3932-4375-a947-294c8e9ce4c0\")>,\n",
       " <selenium.webdriver.remote.webelement.WebElement (session=\"26088f41090558136e35b895b17291cd\", element=\"79b7c182-a703-4718-8ef6-d092d40ec08c\")>,\n",
       " <selenium.webdriver.remote.webelement.WebElement (session=\"26088f41090558136e35b895b17291cd\", element=\"7d685c6d-056f-420d-8af0-b19095e76ba2\")>,\n",
       " <selenium.webdriver.remote.webelement.WebElement (session=\"26088f41090558136e35b895b17291cd\", element=\"c25576a5-5dd9-404e-8432-39533d7ee3c8\")>,\n",
       " <selenium.webdriver.remote.webelement.WebElement (session=\"26088f41090558136e35b895b17291cd\", element=\"61c9350b-a88d-47bf-bdaf-2f970d9aa383\")>,\n",
       " <selenium.webdriver.remote.webelement.WebElement (session=\"26088f41090558136e35b895b17291cd\", element=\"34c12d47-42a0-4796-8091-bf192fc481bd\")>,\n",
       " <selenium.webdriver.remote.webelement.WebElement (session=\"26088f41090558136e35b895b17291cd\", element=\"b8418a5f-078f-4c47-8bc3-56b5dc55795a\")>,\n",
       " <selenium.webdriver.remote.webelement.WebElement (session=\"26088f41090558136e35b895b17291cd\", element=\"610afe06-85b7-4743-bfe3-2c22cb068e23\")>,\n",
       " <selenium.webdriver.remote.webelement.WebElement (session=\"26088f41090558136e35b895b17291cd\", element=\"f3b88383-c711-4d3b-8ad7-dc38aca87f49\")>,\n",
       " <selenium.webdriver.remote.webelement.WebElement (session=\"26088f41090558136e35b895b17291cd\", element=\"97adaf3a-6cdb-4c62-a190-dcc735dedf3f\")>]"
      ]
     },
     "execution_count": 15,
     "metadata": {},
     "output_type": "execute_result"
    }
   ],
   "source": [
    "price_tags = driver.find_elements_by_xpath (\"//div[@class = '_30jeq3 _1_WHN1']\")\n",
    "price_tags [0:10]"
   ]
  },
  {
   "cell_type": "code",
   "execution_count": 16,
   "metadata": {},
   "outputs": [
    {
     "data": {
      "text/plain": [
       "['₹31,999',\n",
       " '₹10,999',\n",
       " '₹10,999',\n",
       " '₹10,499',\n",
       " '₹10,499',\n",
       " '₹9,999',\n",
       " '₹10,999',\n",
       " '₹10,499',\n",
       " '₹12,999',\n",
       " '₹10,999']"
      ]
     },
     "execution_count": 16,
     "metadata": {},
     "output_type": "execute_result"
    }
   ],
   "source": [
    "for i in  price_tags:\n",
    "    prices = i.text\n",
    "    price.append(prices)\n",
    "price [0:10]"
   ]
  },
  {
   "cell_type": "code",
   "execution_count": 17,
   "metadata": {},
   "outputs": [
    {
     "name": "stdout",
     "output_type": "stream",
     "text": [
      "24 24 24\n"
     ]
    }
   ],
   "source": [
    "print (len (brand),len (product_description),len (price))"
   ]
  },
  {
   "cell_type": "code",
   "execution_count": 18,
   "metadata": {},
   "outputs": [],
   "source": [
    "products = pd.DataFrame ({})\n",
    "products ['BRAND'] = brand\n",
    "products ['DESCRIPTION'] = product_description\n",
    "products ['PRICE'] = price"
   ]
  },
  {
   "cell_type": "code",
   "execution_count": 19,
   "metadata": {},
   "outputs": [
    {
     "data": {
      "text/html": [
       "<div>\n",
       "<style scoped>\n",
       "    .dataframe tbody tr th:only-of-type {\n",
       "        vertical-align: middle;\n",
       "    }\n",
       "\n",
       "    .dataframe tbody tr th {\n",
       "        vertical-align: top;\n",
       "    }\n",
       "\n",
       "    .dataframe thead th {\n",
       "        text-align: right;\n",
       "    }\n",
       "</style>\n",
       "<table border=\"1\" class=\"dataframe\">\n",
       "  <thead>\n",
       "    <tr style=\"text-align: right;\">\n",
       "      <th></th>\n",
       "      <th>BRAND</th>\n",
       "      <th>DESCRIPTION</th>\n",
       "      <th>PRICE</th>\n",
       "    </tr>\n",
       "  </thead>\n",
       "  <tbody>\n",
       "    <tr>\n",
       "      <th>0</th>\n",
       "      <td>Google Pixel 4a (Just Black, 128 GB)</td>\n",
       "      <td>6 GB RAM | 128 GB ROM\\n14.76 cm (5.81 inch) Fu...</td>\n",
       "      <td>₹31,999</td>\n",
       "    </tr>\n",
       "    <tr>\n",
       "      <th>1</th>\n",
       "      <td>REDMI Note 9 (Arctic White, 64 GB)</td>\n",
       "      <td>4 GB RAM | 64 GB ROM | Expandable Upto 512 GB\\...</td>\n",
       "      <td>₹10,999</td>\n",
       "    </tr>\n",
       "    <tr>\n",
       "      <th>2</th>\n",
       "      <td>REDMI Note 9 (Shadow Black, 64 GB)</td>\n",
       "      <td>4 GB RAM | 64 GB ROM | Expandable Upto 512 GB\\...</td>\n",
       "      <td>₹10,999</td>\n",
       "    </tr>\n",
       "    <tr>\n",
       "      <th>3</th>\n",
       "      <td>REDMI 9 Power (Blazing Blue, 64 GB)</td>\n",
       "      <td>4 GB RAM | 64 GB ROM\\n16.59 cm (6.53 inch) Ful...</td>\n",
       "      <td>₹10,499</td>\n",
       "    </tr>\n",
       "    <tr>\n",
       "      <th>4</th>\n",
       "      <td>REDMI 9 Power (Electric Green, 64 GB)</td>\n",
       "      <td>4 GB RAM | 64 GB ROM\\n16.59 cm (6.53 inch) Ful...</td>\n",
       "      <td>₹10,499</td>\n",
       "    </tr>\n",
       "    <tr>\n",
       "      <th>5</th>\n",
       "      <td>Redmi 9 Prime (Matte Black, 64 GB)</td>\n",
       "      <td>4 GB RAM | 64 GB ROM | Expandable Upto 512 GB\\...</td>\n",
       "      <td>₹9,999</td>\n",
       "    </tr>\n",
       "    <tr>\n",
       "      <th>6</th>\n",
       "      <td>REDMI Note 9 (Aqua Green, 64 GB)</td>\n",
       "      <td>4 GB RAM | 64 GB ROM | Expandable Upto 512 GB\\...</td>\n",
       "      <td>₹10,999</td>\n",
       "    </tr>\n",
       "    <tr>\n",
       "      <th>7</th>\n",
       "      <td>REDMI 9 Power (Mighty Black, 64 GB)</td>\n",
       "      <td>4 GB RAM | 64 GB ROM\\n16.59 cm (6.53 inch) Ful...</td>\n",
       "      <td>₹10,499</td>\n",
       "    </tr>\n",
       "    <tr>\n",
       "      <th>8</th>\n",
       "      <td>REDMI 9 Power (Mighty Black, 128 GB)</td>\n",
       "      <td>6 GB RAM | 128 GB ROM\\n16.59 cm (6.53 inch) Fu...</td>\n",
       "      <td>₹12,999</td>\n",
       "    </tr>\n",
       "    <tr>\n",
       "      <th>9</th>\n",
       "      <td>REDMI Note 9 (Pebble Grey, 64 GB)</td>\n",
       "      <td>4 GB RAM | 64 GB ROM | Expandable Upto 512 GB\\...</td>\n",
       "      <td>₹10,999</td>\n",
       "    </tr>\n",
       "    <tr>\n",
       "      <th>10</th>\n",
       "      <td>REDMI 9 Power (Fiery Red, 64 GB)</td>\n",
       "      <td>4 GB RAM | 64 GB ROM\\n16.59 cm (6.53 inch) Ful...</td>\n",
       "      <td>₹10,499</td>\n",
       "    </tr>\n",
       "    <tr>\n",
       "      <th>11</th>\n",
       "      <td>ViVO Y20G (Purist Blue, 128 GB)</td>\n",
       "      <td>6 GB RAM | 128 GB ROM\\n16.54 cm (6.51 inch) Di...</td>\n",
       "      <td>₹14,990</td>\n",
       "    </tr>\n",
       "    <tr>\n",
       "      <th>12</th>\n",
       "      <td>Redmi 9 (Sky Blue, 64 GB)</td>\n",
       "      <td>4 GB RAM | 64 GB ROM\\n16.59 cm (6.53 inch) HD+...</td>\n",
       "      <td>₹9,145</td>\n",
       "    </tr>\n",
       "    <tr>\n",
       "      <th>13</th>\n",
       "      <td>REDMI Note 9 (Aqua Green, 128 GB)</td>\n",
       "      <td>6 GB RAM | 128 GB ROM | Expandable Upto 512 GB...</td>\n",
       "      <td>₹13,999</td>\n",
       "    </tr>\n",
       "    <tr>\n",
       "      <th>14</th>\n",
       "      <td>Redmi 9 (Carbon Black, 64 GB)</td>\n",
       "      <td>4 GB RAM | 64 GB ROM\\n16.59 cm (6.53 inch) HD+...</td>\n",
       "      <td>₹9,068</td>\n",
       "    </tr>\n",
       "    <tr>\n",
       "      <th>15</th>\n",
       "      <td>REDMI Note 10 Pro (Dark Night, 128 GB)</td>\n",
       "      <td>8 GB RAM | 128 GB ROM\\n16.94 cm (6.67 inch) Di...</td>\n",
       "      <td>₹21,999</td>\n",
       "    </tr>\n",
       "    <tr>\n",
       "      <th>16</th>\n",
       "      <td>Redmi Note 9 Pro (Interstellar Black, 128 GB)</td>\n",
       "      <td>4 GB RAM | 128 GB ROM | Expandable Upto 512 GB...</td>\n",
       "      <td>₹14,980</td>\n",
       "    </tr>\n",
       "    <tr>\n",
       "      <th>17</th>\n",
       "      <td>REDMI Note 9 (Pebble Grey, 128 GB)</td>\n",
       "      <td>6 GB RAM | 128 GB ROM | Expandable Upto 512 GB...</td>\n",
       "      <td>₹13,999</td>\n",
       "    </tr>\n",
       "    <tr>\n",
       "      <th>18</th>\n",
       "      <td>REDMI Note 9 (Arctic White, 128 GB)</td>\n",
       "      <td>6 GB RAM | 128 GB ROM | Expandable Upto 512 GB...</td>\n",
       "      <td>₹13,999</td>\n",
       "    </tr>\n",
       "    <tr>\n",
       "      <th>19</th>\n",
       "      <td>Redmi 9A (SeaBlue, 32 GB)</td>\n",
       "      <td>2 GB RAM | 32 GB ROM\\n16.59 cm (6.53 inch) Ful...</td>\n",
       "      <td>₹7,388</td>\n",
       "    </tr>\n",
       "    <tr>\n",
       "      <th>20</th>\n",
       "      <td>Redmi 9A (Nature Green, 32 GB)</td>\n",
       "      <td>2 GB RAM | 32 GB ROM\\n16.59 cm (6.53 inch) Ful...</td>\n",
       "      <td>₹7,150</td>\n",
       "    </tr>\n",
       "    <tr>\n",
       "      <th>21</th>\n",
       "      <td>Redmi 9A (Midnight Black, 32 GB)</td>\n",
       "      <td>2 GB RAM | 32 GB ROM\\n16.59 cm (6.53 inch) Ful...</td>\n",
       "      <td>₹7,299</td>\n",
       "    </tr>\n",
       "    <tr>\n",
       "      <th>22</th>\n",
       "      <td>REDMI 9 Power (Blazing Blue, 128 GB)</td>\n",
       "      <td>4 GB RAM | 128 GB ROM\\n16.59 cm (6.53 inch) Fu...</td>\n",
       "      <td>₹11,999</td>\n",
       "    </tr>\n",
       "    <tr>\n",
       "      <th>23</th>\n",
       "      <td>Itel VISION1 (GRADATION GREEN, 32 GB)</td>\n",
       "      <td>2 GB RAM | 32 GB ROM | Expandable Upto 128 GB\\...</td>\n",
       "      <td>₹6,699</td>\n",
       "    </tr>\n",
       "  </tbody>\n",
       "</table>\n",
       "</div>"
      ],
      "text/plain": [
       "                                            BRAND  \\\n",
       "0            Google Pixel 4a (Just Black, 128 GB)   \n",
       "1              REDMI Note 9 (Arctic White, 64 GB)   \n",
       "2              REDMI Note 9 (Shadow Black, 64 GB)   \n",
       "3             REDMI 9 Power (Blazing Blue, 64 GB)   \n",
       "4           REDMI 9 Power (Electric Green, 64 GB)   \n",
       "5              Redmi 9 Prime (Matte Black, 64 GB)   \n",
       "6                REDMI Note 9 (Aqua Green, 64 GB)   \n",
       "7             REDMI 9 Power (Mighty Black, 64 GB)   \n",
       "8            REDMI 9 Power (Mighty Black, 128 GB)   \n",
       "9               REDMI Note 9 (Pebble Grey, 64 GB)   \n",
       "10               REDMI 9 Power (Fiery Red, 64 GB)   \n",
       "11                ViVO Y20G (Purist Blue, 128 GB)   \n",
       "12                      Redmi 9 (Sky Blue, 64 GB)   \n",
       "13              REDMI Note 9 (Aqua Green, 128 GB)   \n",
       "14                  Redmi 9 (Carbon Black, 64 GB)   \n",
       "15         REDMI Note 10 Pro (Dark Night, 128 GB)   \n",
       "16  Redmi Note 9 Pro (Interstellar Black, 128 GB)   \n",
       "17             REDMI Note 9 (Pebble Grey, 128 GB)   \n",
       "18            REDMI Note 9 (Arctic White, 128 GB)   \n",
       "19                      Redmi 9A (SeaBlue, 32 GB)   \n",
       "20                 Redmi 9A (Nature Green, 32 GB)   \n",
       "21               Redmi 9A (Midnight Black, 32 GB)   \n",
       "22           REDMI 9 Power (Blazing Blue, 128 GB)   \n",
       "23          Itel VISION1 (GRADATION GREEN, 32 GB)   \n",
       "\n",
       "                                          DESCRIPTION    PRICE  \n",
       "0   6 GB RAM | 128 GB ROM\\n14.76 cm (5.81 inch) Fu...  ₹31,999  \n",
       "1   4 GB RAM | 64 GB ROM | Expandable Upto 512 GB\\...  ₹10,999  \n",
       "2   4 GB RAM | 64 GB ROM | Expandable Upto 512 GB\\...  ₹10,999  \n",
       "3   4 GB RAM | 64 GB ROM\\n16.59 cm (6.53 inch) Ful...  ₹10,499  \n",
       "4   4 GB RAM | 64 GB ROM\\n16.59 cm (6.53 inch) Ful...  ₹10,499  \n",
       "5   4 GB RAM | 64 GB ROM | Expandable Upto 512 GB\\...   ₹9,999  \n",
       "6   4 GB RAM | 64 GB ROM | Expandable Upto 512 GB\\...  ₹10,999  \n",
       "7   4 GB RAM | 64 GB ROM\\n16.59 cm (6.53 inch) Ful...  ₹10,499  \n",
       "8   6 GB RAM | 128 GB ROM\\n16.59 cm (6.53 inch) Fu...  ₹12,999  \n",
       "9   4 GB RAM | 64 GB ROM | Expandable Upto 512 GB\\...  ₹10,999  \n",
       "10  4 GB RAM | 64 GB ROM\\n16.59 cm (6.53 inch) Ful...  ₹10,499  \n",
       "11  6 GB RAM | 128 GB ROM\\n16.54 cm (6.51 inch) Di...  ₹14,990  \n",
       "12  4 GB RAM | 64 GB ROM\\n16.59 cm (6.53 inch) HD+...   ₹9,145  \n",
       "13  6 GB RAM | 128 GB ROM | Expandable Upto 512 GB...  ₹13,999  \n",
       "14  4 GB RAM | 64 GB ROM\\n16.59 cm (6.53 inch) HD+...   ₹9,068  \n",
       "15  8 GB RAM | 128 GB ROM\\n16.94 cm (6.67 inch) Di...  ₹21,999  \n",
       "16  4 GB RAM | 128 GB ROM | Expandable Upto 512 GB...  ₹14,980  \n",
       "17  6 GB RAM | 128 GB ROM | Expandable Upto 512 GB...  ₹13,999  \n",
       "18  6 GB RAM | 128 GB ROM | Expandable Upto 512 GB...  ₹13,999  \n",
       "19  2 GB RAM | 32 GB ROM\\n16.59 cm (6.53 inch) Ful...   ₹7,388  \n",
       "20  2 GB RAM | 32 GB ROM\\n16.59 cm (6.53 inch) Ful...   ₹7,150  \n",
       "21  2 GB RAM | 32 GB ROM\\n16.59 cm (6.53 inch) Ful...   ₹7,299  \n",
       "22  4 GB RAM | 128 GB ROM\\n16.59 cm (6.53 inch) Fu...  ₹11,999  \n",
       "23  2 GB RAM | 32 GB ROM | Expandable Upto 128 GB\\...   ₹6,699  "
      ]
     },
     "execution_count": 19,
     "metadata": {},
     "output_type": "execute_result"
    }
   ],
   "source": [
    "products"
   ]
  },
  {
   "cell_type": "code",
   "execution_count": 20,
   "metadata": {},
   "outputs": [],
   "source": [
    "driver.close ()"
   ]
  },
  {
   "cell_type": "raw",
   "metadata": {},
   "source": [
    "Q3. Write a python program to access the search bar and search button on images.google.com and scrape 100 images each for keywords ‘fruits’, ‘cars’ and ‘Machine Learning’."
   ]
  },
  {
   "cell_type": "code",
   "execution_count": 1,
   "metadata": {},
   "outputs": [],
   "source": [
    "from selenium import webdriver\n",
    "from selenium.webdriver.common.keys import Keys\n",
    "import os\n",
    "import json\n",
    "from urllib.request import\n",
    "import sys\n",
    "import time"
   ]
  },
  {
   "cell_type": "code",
   "execution_count": 2,
   "metadata": {},
   "outputs": [],
   "source": [
    "# adding path to geckodriver to the OS environment variable\n",
    "os.environ[\"PATH\"] += os.pathsep + os.getcwd()\n",
    "download_path = \"dataset/\""
   ]
  },
  {
   "cell_type": "code",
   "execution_count": 18,
   "metadata": {},
   "outputs": [],
   "source": [
    "def main():\n",
    "    searchtext = sys.argv[1]\n",
    "    num_requested = int(sys.argv[2])\n",
    "    number_of_scrolls = num_requested / 400 + 1 \n",
    "    \n",
    "    if not os.path.exists(download_path + searchtext.replace(\" \", \"_\")):\n",
    "        os.makedirs(download_path + searchtext.replace(\" \", \"_\"))\n",
    "    \n",
    "# number_of_scrolls * 400 images will be opened in the browser"
   ]
  },
  {
   "cell_type": "code",
   "execution_count": 15,
   "metadata": {},
   "outputs": [],
   "source": [
    "url = \"https://www.google.com/search?q=fruits&tbm=isch&ved=2ahUKEwjl_Z7tm6HwAhUvMbcAHX6VAdUQ2-cCegQIABAA&oq=fruits&gs_lcp=CgNpbWcQAzIECAAQQzIICAAQsQMQgwEyBQgAELEDMggIABCxAxCDATIFCAAQsQMyCAgAELEDEIMBMgQIABBDMgUIABCxAzIFCAAQsQMyBAgAEEM6AggAUKXwAVig_QFg6oUCaABwAHgAgAGFA4gBwguSAQcwLjUuMC4ymAEAoAEBqgELZ3dzLXdpei1pbWfAAQE&sclient=img&ei=QHqJYOXdEq_i3LUP_qqGqA0\"\n",
    "driver = webdriver.Chrome(r\"C://chromedriver.exe\")\n",
    "driver.get(url)"
   ]
  },
  {
   "cell_type": "code",
   "execution_count": 16,
   "metadata": {},
   "outputs": [],
   "source": [
    "headers = {}\n",
    "headers['User-Agent'] = \"Mozilla/5.0 (Windows NT 6.1) AppleWebKit/537.36 (KHTML, like Gecko) Chrome/41.0.2228.0 Safari/537.36\"\n",
    "extensions = {\"jpg\", \"jpeg\", \"png\", \"gif\"}\n",
    "img_count = 0\n",
    "downloaded_img_count = 0"
   ]
  },
  {
   "cell_type": "code",
   "execution_count": 19,
   "metadata": {},
   "outputs": [
    {
     "ename": "NameError",
     "evalue": "name 'number_of_scrolls' is not defined",
     "output_type": "error",
     "traceback": [
      "\u001b[1;31m---------------------------------------------------------------------------\u001b[0m",
      "\u001b[1;31mNameError\u001b[0m                                 Traceback (most recent call last)",
      "\u001b[1;32m<ipython-input-19-c1c4ad9a2282>\u001b[0m in \u001b[0;36m<module>\u001b[1;34m\u001b[0m\n\u001b[1;32m----> 1\u001b[1;33m \u001b[1;32mfor\u001b[0m \u001b[0m_\u001b[0m \u001b[1;32min\u001b[0m \u001b[0mrange\u001b[0m\u001b[1;33m(\u001b[0m\u001b[0mint\u001b[0m\u001b[1;33m(\u001b[0m\u001b[0mnumber_of_scrolls\u001b[0m\u001b[1;33m)\u001b[0m\u001b[1;33m)\u001b[0m\u001b[1;33m:\u001b[0m\u001b[1;33m\u001b[0m\u001b[1;33m\u001b[0m\u001b[0m\n\u001b[0m\u001b[0;32m      2\u001b[0m     \u001b[1;32mfor\u001b[0m \u001b[0m__\u001b[0m \u001b[1;32min\u001b[0m \u001b[0mrange\u001b[0m\u001b[1;33m(\u001b[0m\u001b[1;36m10\u001b[0m\u001b[1;33m)\u001b[0m\u001b[1;33m:\u001b[0m\u001b[1;33m\u001b[0m\u001b[1;33m\u001b[0m\u001b[0m\n\u001b[0;32m      3\u001b[0m         \u001b[0mdriver\u001b[0m\u001b[1;33m.\u001b[0m\u001b[0mexecute_script\u001b[0m\u001b[1;33m(\u001b[0m\u001b[1;34m\"window.scrollBy(0, 1000000)\"\u001b[0m\u001b[1;33m)\u001b[0m\u001b[1;33m\u001b[0m\u001b[1;33m\u001b[0m\u001b[0m\n\u001b[0;32m      4\u001b[0m         \u001b[1;31m# multiple scrolls needed to show all 400 images\u001b[0m\u001b[1;33m\u001b[0m\u001b[1;33m\u001b[0m\u001b[1;33m\u001b[0m\u001b[0m\n\u001b[0;32m      5\u001b[0m         \u001b[0mtime\u001b[0m\u001b[1;33m.\u001b[0m\u001b[0msleep\u001b[0m\u001b[1;33m(\u001b[0m\u001b[1;36m0.2\u001b[0m\u001b[1;33m)\u001b[0m\u001b[1;33m\u001b[0m\u001b[1;33m\u001b[0m\u001b[0m\n",
      "\u001b[1;31mNameError\u001b[0m: name 'number_of_scrolls' is not defined"
     ]
    }
   ],
   "source": [
    "for _ in range(int(number_of_scrolls)):\n",
    "    for __ in range(10):\n",
    "        driver.execute_script(\"window.scrollBy(0, 1000000)\")\n",
    "        # multiple scrolls needed to show all 400 images\n",
    "        time.sleep(0.2)\n",
    "        # to load next 400 images\n",
    "        time.sleep(0.5)\n",
    "        \n",
    "    try:\n",
    "        driver.find_element_by_xpath(\"//input[@value='Show more results']\").click()\n",
    "    except Exception as e:\n",
    "        print (\"Less images found: {}\".format(e))\n",
    "        break"
   ]
  },
  {
   "cell_type": "code",
   "execution_count": 21,
   "metadata": {},
   "outputs": [
    {
     "name": "stdout",
     "output_type": "stream",
     "text": [
      "Total images: 0\n",
      "\n"
     ]
    }
   ],
   "source": [
    "imges = driver.find_elements_by_xpath('//div[contains(@class,\"rg_meta\")]')\n",
    "print (\"Total images: {}\\n\".format(len(imges)))\n",
    "\n",
    "for img in imges:\n",
    "    img_count += 1\n",
    "    img_url = json.loads(img.get_attribute('innerHTML'))[\"ou\"]\n",
    "    img_type = json.loads(img.get_attribute('innerHTML'))[\"ity\"]\n",
    "    print (\"Downloading image {}:{}\".format(img_count,img_url))\n",
    "    \n",
    "    try:\n",
    "        if img_type not in extensions:\n",
    "            img_type = \"jpg\"\n",
    "            req = Request(img_url, headers=headers)\n",
    "            raw_img = urlopen(req).read()\n",
    "            f = open(download_path+searchtext.replace(\" \", \"_\")+\"/\"+str(downloaded_img_count)+\".\"+img_type, \"wb\")\n",
    "            f.write(raw_img)\n",
    "            f.close\n",
    "            downloaded_img_count += 1\n",
    "    except Exception as e:\n",
    "        print (\"Download failed: {}\".format(e))\n",
    "    finally:\n",
    "        print\n",
    "    if downloaded_img_count >= num_requested:\n",
    "        break"
   ]
  },
  {
   "cell_type": "code",
   "execution_count": 22,
   "metadata": {},
   "outputs": [
    {
     "name": "stdout",
     "output_type": "stream",
     "text": [
      "Total downloaded: 0/0\n"
     ]
    }
   ],
   "source": [
    "print (\"Total downloaded: {}/{}\".format(downloaded_img_count,img_count))\n",
    "driver.close()"
   ]
  },
  {
   "cell_type": "code",
   "execution_count": null,
   "metadata": {},
   "outputs": [],
   "source": []
  },
  {
   "cell_type": "code",
   "execution_count": null,
   "metadata": {},
   "outputs": [],
   "source": []
  }
 ],
 "metadata": {
  "kernelspec": {
   "display_name": "Python 3",
   "language": "python",
   "name": "python3"
  },
  "language_info": {
   "codemirror_mode": {
    "name": "ipython",
    "version": 3
   },
   "file_extension": ".py",
   "mimetype": "text/x-python",
   "name": "python",
   "nbconvert_exporter": "python",
   "pygments_lexer": "ipython3",
   "version": "3.7.6"
  }
 },
 "nbformat": 4,
 "nbformat_minor": 4
}
